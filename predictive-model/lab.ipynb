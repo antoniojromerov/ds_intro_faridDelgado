{
 "cells": [
  {
   "cell_type": "markdown",
   "metadata": {},
   "source": [
    "# Regresión múltiple"
   ]
  },
  {
   "cell_type": "markdown",
   "metadata": {},
   "source": [
    "- Tarea: entrenar un modelo que predice el Precio de un vehículo, basado en su kilometraje, número de cilindros y año de fabricación\n",
    "\n",
    "- Dataset: https://www.kaggle.com/austinreese/craigslist-carstrucks-data/version/10"
   ]
  },
  {
   "cell_type": "markdown",
   "metadata": {},
   "source": [
    "## Preparación de los datos"
   ]
  },
  {
   "cell_type": "markdown",
   "metadata": {},
   "source": [
    "Carguemos nuestros dataset de carros usados con precios y otras caracteristicas"
   ]
  },
  {
   "cell_type": "code",
   "execution_count": 220,
   "metadata": {},
   "outputs": [
    {
     "data": {
      "text/html": [
       "<div>\n",
       "<style scoped>\n",
       "    .dataframe tbody tr th:only-of-type {\n",
       "        vertical-align: middle;\n",
       "    }\n",
       "\n",
       "    .dataframe tbody tr th {\n",
       "        vertical-align: top;\n",
       "    }\n",
       "\n",
       "    .dataframe thead th {\n",
       "        text-align: right;\n",
       "    }\n",
       "</style>\n",
       "<table border=\"1\" class=\"dataframe\">\n",
       "  <thead>\n",
       "    <tr style=\"text-align: right;\">\n",
       "      <th></th>\n",
       "      <th>id</th>\n",
       "      <th>price</th>\n",
       "      <th>year</th>\n",
       "      <th>manufacturer</th>\n",
       "      <th>model</th>\n",
       "      <th>condition</th>\n",
       "      <th>cylinders</th>\n",
       "      <th>fuel</th>\n",
       "      <th>odometer</th>\n",
       "      <th>transmission</th>\n",
       "      <th>drive</th>\n",
       "      <th>size</th>\n",
       "      <th>type</th>\n",
       "      <th>paint_color</th>\n",
       "    </tr>\n",
       "  </thead>\n",
       "  <tbody>\n",
       "    <tr>\n",
       "      <th>0</th>\n",
       "      <td>7316814884</td>\n",
       "      <td>33590</td>\n",
       "      <td>2014.0</td>\n",
       "      <td>gmc</td>\n",
       "      <td>sierra 1500 crew cab slt</td>\n",
       "      <td>good</td>\n",
       "      <td>8 cylinders</td>\n",
       "      <td>gas</td>\n",
       "      <td>57923.0</td>\n",
       "      <td>other</td>\n",
       "      <td>NaN</td>\n",
       "      <td>NaN</td>\n",
       "      <td>pickup</td>\n",
       "      <td>white</td>\n",
       "    </tr>\n",
       "    <tr>\n",
       "      <th>1</th>\n",
       "      <td>7316814758</td>\n",
       "      <td>22590</td>\n",
       "      <td>2010.0</td>\n",
       "      <td>chevrolet</td>\n",
       "      <td>silverado 1500</td>\n",
       "      <td>good</td>\n",
       "      <td>8 cylinders</td>\n",
       "      <td>gas</td>\n",
       "      <td>71229.0</td>\n",
       "      <td>other</td>\n",
       "      <td>NaN</td>\n",
       "      <td>NaN</td>\n",
       "      <td>pickup</td>\n",
       "      <td>blue</td>\n",
       "    </tr>\n",
       "    <tr>\n",
       "      <th>2</th>\n",
       "      <td>7316814989</td>\n",
       "      <td>39590</td>\n",
       "      <td>2020.0</td>\n",
       "      <td>chevrolet</td>\n",
       "      <td>silverado 1500 crew</td>\n",
       "      <td>good</td>\n",
       "      <td>8 cylinders</td>\n",
       "      <td>gas</td>\n",
       "      <td>19160.0</td>\n",
       "      <td>other</td>\n",
       "      <td>NaN</td>\n",
       "      <td>NaN</td>\n",
       "      <td>pickup</td>\n",
       "      <td>red</td>\n",
       "    </tr>\n",
       "    <tr>\n",
       "      <th>3</th>\n",
       "      <td>7316743432</td>\n",
       "      <td>30990</td>\n",
       "      <td>2017.0</td>\n",
       "      <td>toyota</td>\n",
       "      <td>tundra double cab sr</td>\n",
       "      <td>good</td>\n",
       "      <td>8 cylinders</td>\n",
       "      <td>gas</td>\n",
       "      <td>41124.0</td>\n",
       "      <td>other</td>\n",
       "      <td>NaN</td>\n",
       "      <td>NaN</td>\n",
       "      <td>pickup</td>\n",
       "      <td>red</td>\n",
       "    </tr>\n",
       "    <tr>\n",
       "      <th>4</th>\n",
       "      <td>7316356412</td>\n",
       "      <td>15000</td>\n",
       "      <td>2013.0</td>\n",
       "      <td>ford</td>\n",
       "      <td>f-150 xlt</td>\n",
       "      <td>excellent</td>\n",
       "      <td>6 cylinders</td>\n",
       "      <td>gas</td>\n",
       "      <td>128000.0</td>\n",
       "      <td>automatic</td>\n",
       "      <td>rwd</td>\n",
       "      <td>full-size</td>\n",
       "      <td>truck</td>\n",
       "      <td>black</td>\n",
       "    </tr>\n",
       "  </tbody>\n",
       "</table>\n",
       "</div>"
      ],
      "text/plain": [
       "           id  price    year manufacturer                     model  \\\n",
       "0  7316814884  33590  2014.0          gmc  sierra 1500 crew cab slt   \n",
       "1  7316814758  22590  2010.0    chevrolet            silverado 1500   \n",
       "2  7316814989  39590  2020.0    chevrolet       silverado 1500 crew   \n",
       "3  7316743432  30990  2017.0       toyota      tundra double cab sr   \n",
       "4  7316356412  15000  2013.0         ford                 f-150 xlt   \n",
       "\n",
       "   condition    cylinders fuel  odometer transmission drive       size  \\\n",
       "0       good  8 cylinders  gas   57923.0        other   NaN        NaN   \n",
       "1       good  8 cylinders  gas   71229.0        other   NaN        NaN   \n",
       "2       good  8 cylinders  gas   19160.0        other   NaN        NaN   \n",
       "3       good  8 cylinders  gas   41124.0        other   NaN        NaN   \n",
       "4  excellent  6 cylinders  gas  128000.0    automatic   rwd  full-size   \n",
       "\n",
       "     type paint_color  \n",
       "0  pickup       white  \n",
       "1  pickup        blue  \n",
       "2  pickup         red  \n",
       "3  pickup         red  \n",
       "4   truck       black  "
      ]
     },
     "execution_count": 220,
     "metadata": {},
     "output_type": "execute_result"
    }
   ],
   "source": [
    "import pandas as pd\n",
    "df = pd.read_csv(\"car_prices.csv\")\n",
    "df.head()"
   ]
  },
  {
   "cell_type": "markdown",
   "metadata": {},
   "source": [
    "Visualizamos los vehiculos agrupados por rangos de kilometraje.\n",
    "\n",
    "Para esto vamos a utilizar la función pandas.cut(...).\n",
    "- pandas.cut(..): Es útil cuando necesite segmentar y ordenar valores de datos en contenedores. Esta función también es útil para convertir una variable continua a una categórica.\n",
    "- bins = contenedores"
   ]
  },
  {
   "cell_type": "code",
   "execution_count": 221,
   "metadata": {},
   "outputs": [
    {
     "data": {
      "text/plain": [
       "250000.0"
      ]
     },
     "execution_count": 221,
     "metadata": {},
     "output_type": "execute_result"
    }
   ],
   "source": [
    "df['odometer'].max()"
   ]
  },
  {
   "cell_type": "code",
   "execution_count": 222,
   "metadata": {},
   "outputs": [
    {
     "data": {
      "text/plain": [
       "array([     0,  20000,  40000,  60000,  80000, 100000, 120000, 140000,\n",
       "       160000, 180000, 200000, 220000, 240000])"
      ]
     },
     "execution_count": 222,
     "metadata": {},
     "output_type": "execute_result"
    }
   ],
   "source": [
    "import numpy as np\n",
    "bins = np.arange(0, 250001, 20000)\n",
    "bins"
   ]
  },
  {
   "cell_type": "code",
   "execution_count": 226,
   "metadata": {},
   "outputs": [
    {
     "data": {
      "text/plain": [
       "odometer\n",
       "(0, 20000]          31343.108237\n",
       "(20000, 40000]      28727.941799\n",
       "(40000, 60000]      23741.551033\n",
       "(60000, 80000]      19372.390309\n",
       "(80000, 100000]     15534.047156\n",
       "(100000, 120000]    13324.035905\n",
       "(120000, 140000]    11485.799505\n",
       "(140000, 160000]    10036.434229\n",
       "(160000, 180000]     9109.990589\n",
       "(180000, 200000]     8116.431396\n",
       "(200000, 220000]     8042.389774\n",
       "(220000, 240000]     7590.906678\n",
       "Name: price, dtype: float64"
      ]
     },
     "execution_count": 226,
     "metadata": {},
     "output_type": "execute_result"
    }
   ],
   "source": [
    "grouping = pd.cut(df['odometer'], bins)\n",
    "groups = df.groupby(grouping)['price'].mean()\n",
    "groups"
   ]
  },
  {
   "cell_type": "markdown",
   "metadata": {},
   "source": [
    "Podemos usar pandas para seleccionar solamente las caracteristicas en las que estamos interesados, y el valor que estamos tratando de predecir"
   ]
  },
  {
   "cell_type": "code",
   "execution_count": 228,
   "metadata": {},
   "outputs": [
    {
     "data": {
      "text/plain": [
       "<AxesSubplot:xlabel='odometer'>"
      ]
     },
     "execution_count": 228,
     "metadata": {},
     "output_type": "execute_result"
    },
    {
     "data": {
      "image/png": "[encoded data removed]",
      "text/plain": [
       "<Figure size 1440x720 with 1 Axes>"
      ]
     },
     "metadata": {
      "needs_background": "light"
     },
     "output_type": "display_data"
    }
   ],
   "source": [
    "groups.plot.line(figsize=[20, 10])"
   ]
  },
  {
   "cell_type": "markdown",
   "metadata": {},
   "source": [
    "En este ejemplo estamos evitando datos como la marca (manufacturer) o el modelo (model) ya que las regresiones no funcionan bien con este tipo de datos, al menos que puedas convertirlos a algún valor númerico.\n",
    "\n",
    "En este caso, usaremos pandas para convertir el valor de número de cilindros (cyllinders) a entero."
   ]
  },
  {
   "cell_type": "code",
   "execution_count": 229,
   "metadata": {},
   "outputs": [
    {
     "data": {
      "text/plain": [
       "Index(['id', 'price', 'year', 'manufacturer', 'model', 'condition',\n",
       "       'cylinders', 'fuel', 'odometer', 'transmission', 'drive', 'size',\n",
       "       'type', 'paint_color'],\n",
       "      dtype='object')"
      ]
     },
     "execution_count": 229,
     "metadata": {},
     "output_type": "execute_result"
    }
   ],
   "source": [
    "df.columns"
   ]
  },
  {
   "cell_type": "code",
   "execution_count": 233,
   "metadata": {},
   "outputs": [
    {
     "data": {
      "text/html": [
       "<div>\n",
       "<style scoped>\n",
       "    .dataframe tbody tr th:only-of-type {\n",
       "        vertical-align: middle;\n",
       "    }\n",
       "\n",
       "    .dataframe tbody tr th {\n",
       "        vertical-align: top;\n",
       "    }\n",
       "\n",
       "    .dataframe thead th {\n",
       "        text-align: right;\n",
       "    }\n",
       "</style>\n",
       "<table border=\"1\" class=\"dataframe\">\n",
       "  <thead>\n",
       "    <tr style=\"text-align: right;\">\n",
       "      <th></th>\n",
       "      <th>odometer</th>\n",
       "      <th>cylinders</th>\n",
       "      <th>year</th>\n",
       "      <th>price</th>\n",
       "    </tr>\n",
       "  </thead>\n",
       "  <tbody>\n",
       "    <tr>\n",
       "      <th>0</th>\n",
       "      <td>57923.0</td>\n",
       "      <td>8 cylinders</td>\n",
       "      <td>2014.0</td>\n",
       "      <td>33590</td>\n",
       "    </tr>\n",
       "    <tr>\n",
       "      <th>1</th>\n",
       "      <td>71229.0</td>\n",
       "      <td>8 cylinders</td>\n",
       "      <td>2010.0</td>\n",
       "      <td>22590</td>\n",
       "    </tr>\n",
       "    <tr>\n",
       "      <th>2</th>\n",
       "      <td>19160.0</td>\n",
       "      <td>8 cylinders</td>\n",
       "      <td>2020.0</td>\n",
       "      <td>39590</td>\n",
       "    </tr>\n",
       "    <tr>\n",
       "      <th>3</th>\n",
       "      <td>41124.0</td>\n",
       "      <td>8 cylinders</td>\n",
       "      <td>2017.0</td>\n",
       "      <td>30990</td>\n",
       "    </tr>\n",
       "    <tr>\n",
       "      <th>4</th>\n",
       "      <td>128000.0</td>\n",
       "      <td>6 cylinders</td>\n",
       "      <td>2013.0</td>\n",
       "      <td>15000</td>\n",
       "    </tr>\n",
       "    <tr>\n",
       "      <th>...</th>\n",
       "      <td>...</td>\n",
       "      <td>...</td>\n",
       "      <td>...</td>\n",
       "      <td>...</td>\n",
       "    </tr>\n",
       "    <tr>\n",
       "      <th>225654</th>\n",
       "      <td>53475.0</td>\n",
       "      <td>6 cylinders</td>\n",
       "      <td>2016.0</td>\n",
       "      <td>29590</td>\n",
       "    </tr>\n",
       "    <tr>\n",
       "      <th>225655</th>\n",
       "      <td>55612.0</td>\n",
       "      <td>8 cylinders</td>\n",
       "      <td>2016.0</td>\n",
       "      <td>32990</td>\n",
       "    </tr>\n",
       "    <tr>\n",
       "      <th>225656</th>\n",
       "      <td>30814.0</td>\n",
       "      <td>6 cylinders</td>\n",
       "      <td>2018.0</td>\n",
       "      <td>33590</td>\n",
       "    </tr>\n",
       "    <tr>\n",
       "      <th>225657</th>\n",
       "      <td>32226.0</td>\n",
       "      <td>6 cylinders</td>\n",
       "      <td>2019.0</td>\n",
       "      <td>23590</td>\n",
       "    </tr>\n",
       "    <tr>\n",
       "      <th>225658</th>\n",
       "      <td>30112.0</td>\n",
       "      <td>6 cylinders</td>\n",
       "      <td>2018.0</td>\n",
       "      <td>28990</td>\n",
       "    </tr>\n",
       "  </tbody>\n",
       "</table>\n",
       "<p>225659 rows × 4 columns</p>\n",
       "</div>"
      ],
      "text/plain": [
       "        odometer    cylinders    year  price\n",
       "0        57923.0  8 cylinders  2014.0  33590\n",
       "1        71229.0  8 cylinders  2010.0  22590\n",
       "2        19160.0  8 cylinders  2020.0  39590\n",
       "3        41124.0  8 cylinders  2017.0  30990\n",
       "4       128000.0  6 cylinders  2013.0  15000\n",
       "...          ...          ...     ...    ...\n",
       "225654   53475.0  6 cylinders  2016.0  29590\n",
       "225655   55612.0  8 cylinders  2016.0  32990\n",
       "225656   30814.0  6 cylinders  2018.0  33590\n",
       "225657   32226.0  6 cylinders  2019.0  23590\n",
       "225658   30112.0  6 cylinders  2018.0  28990\n",
       "\n",
       "[225659 rows x 4 columns]"
      ]
     },
     "execution_count": 233,
     "metadata": {},
     "output_type": "execute_result"
    }
   ],
   "source": [
    "maindf = df[['odometer', 'cylinders', 'year', 'price']].copy()\n",
    "maindf"
   ]
  },
  {
   "cell_type": "code",
   "execution_count": 234,
   "metadata": {},
   "outputs": [
    {
     "data": {
      "text/plain": [
       "array(['8 cylinders', '6 cylinders', '4 cylinders', '5 cylinders',\n",
       "       '3 cylinders', '10 cylinders', '12 cylinders'], dtype=object)"
      ]
     },
     "execution_count": 234,
     "metadata": {},
     "output_type": "execute_result"
    }
   ],
   "source": [
    "maindf['cylinders'].unique()"
   ]
  },
  {
   "cell_type": "code",
   "execution_count": 235,
   "metadata": {},
   "outputs": [
    {
     "data": {
      "text/html": [
       "<div>\n",
       "<style scoped>\n",
       "    .dataframe tbody tr th:only-of-type {\n",
       "        vertical-align: middle;\n",
       "    }\n",
       "\n",
       "    .dataframe tbody tr th {\n",
       "        vertical-align: top;\n",
       "    }\n",
       "\n",
       "    .dataframe thead th {\n",
       "        text-align: right;\n",
       "    }\n",
       "</style>\n",
       "<table border=\"1\" class=\"dataframe\">\n",
       "  <thead>\n",
       "    <tr style=\"text-align: right;\">\n",
       "      <th></th>\n",
       "      <th>odometer</th>\n",
       "      <th>cylinders</th>\n",
       "      <th>year</th>\n",
       "      <th>price</th>\n",
       "    </tr>\n",
       "  </thead>\n",
       "  <tbody>\n",
       "    <tr>\n",
       "      <th>0</th>\n",
       "      <td>57923.0</td>\n",
       "      <td>8</td>\n",
       "      <td>2014.0</td>\n",
       "      <td>33590</td>\n",
       "    </tr>\n",
       "    <tr>\n",
       "      <th>1</th>\n",
       "      <td>71229.0</td>\n",
       "      <td>8</td>\n",
       "      <td>2010.0</td>\n",
       "      <td>22590</td>\n",
       "    </tr>\n",
       "    <tr>\n",
       "      <th>2</th>\n",
       "      <td>19160.0</td>\n",
       "      <td>8</td>\n",
       "      <td>2020.0</td>\n",
       "      <td>39590</td>\n",
       "    </tr>\n",
       "    <tr>\n",
       "      <th>3</th>\n",
       "      <td>41124.0</td>\n",
       "      <td>8</td>\n",
       "      <td>2017.0</td>\n",
       "      <td>30990</td>\n",
       "    </tr>\n",
       "    <tr>\n",
       "      <th>4</th>\n",
       "      <td>128000.0</td>\n",
       "      <td>6</td>\n",
       "      <td>2013.0</td>\n",
       "      <td>15000</td>\n",
       "    </tr>\n",
       "    <tr>\n",
       "      <th>...</th>\n",
       "      <td>...</td>\n",
       "      <td>...</td>\n",
       "      <td>...</td>\n",
       "      <td>...</td>\n",
       "    </tr>\n",
       "    <tr>\n",
       "      <th>225654</th>\n",
       "      <td>53475.0</td>\n",
       "      <td>6</td>\n",
       "      <td>2016.0</td>\n",
       "      <td>29590</td>\n",
       "    </tr>\n",
       "    <tr>\n",
       "      <th>225655</th>\n",
       "      <td>55612.0</td>\n",
       "      <td>8</td>\n",
       "      <td>2016.0</td>\n",
       "      <td>32990</td>\n",
       "    </tr>\n",
       "    <tr>\n",
       "      <th>225656</th>\n",
       "      <td>30814.0</td>\n",
       "      <td>6</td>\n",
       "      <td>2018.0</td>\n",
       "      <td>33590</td>\n",
       "    </tr>\n",
       "    <tr>\n",
       "      <th>225657</th>\n",
       "      <td>32226.0</td>\n",
       "      <td>6</td>\n",
       "      <td>2019.0</td>\n",
       "      <td>23590</td>\n",
       "    </tr>\n",
       "    <tr>\n",
       "      <th>225658</th>\n",
       "      <td>30112.0</td>\n",
       "      <td>6</td>\n",
       "      <td>2018.0</td>\n",
       "      <td>28990</td>\n",
       "    </tr>\n",
       "  </tbody>\n",
       "</table>\n",
       "<p>225659 rows × 4 columns</p>\n",
       "</div>"
      ],
      "text/plain": [
       "        odometer  cylinders    year  price\n",
       "0        57923.0          8  2014.0  33590\n",
       "1        71229.0          8  2010.0  22590\n",
       "2        19160.0          8  2020.0  39590\n",
       "3        41124.0          8  2017.0  30990\n",
       "4       128000.0          6  2013.0  15000\n",
       "...          ...        ...     ...    ...\n",
       "225654   53475.0          6  2016.0  29590\n",
       "225655   55612.0          8  2016.0  32990\n",
       "225656   30814.0          6  2018.0  33590\n",
       "225657   32226.0          6  2019.0  23590\n",
       "225658   30112.0          6  2018.0  28990\n",
       "\n",
       "[225659 rows x 4 columns]"
      ]
     },
     "execution_count": 235,
     "metadata": {},
     "output_type": "execute_result"
    }
   ],
   "source": [
    "maindf['cylinders'] = maindf.apply(lambda row: int(row['cylinders'].split()[0]), axis=1)\n",
    "maindf"
   ]
  },
  {
   "cell_type": "markdown",
   "metadata": {},
   "source": [
    "## Entrenando mi modelo"
   ]
  },
  {
   "cell_type": "markdown",
   "metadata": {},
   "source": [
    "Creamos dos conjuntos de datos:\n",
    "\n",
    "- Panda DataFrame con características, lo llamamos X (por convención se usa X en mayúsculas)\n",
    "    - ['odometer', 'cylinders', 'year']\n",
    "- Panda Series con labels (valores a predecir), lo llamamos y (por convención se usa y en minúsculas)"
   ]
  },
  {
   "cell_type": "code",
   "execution_count": 236,
   "metadata": {},
   "outputs": [
    {
     "data": {
      "text/html": [
       "<div>\n",
       "<style scoped>\n",
       "    .dataframe tbody tr th:only-of-type {\n",
       "        vertical-align: middle;\n",
       "    }\n",
       "\n",
       "    .dataframe tbody tr th {\n",
       "        vertical-align: top;\n",
       "    }\n",
       "\n",
       "    .dataframe thead th {\n",
       "        text-align: right;\n",
       "    }\n",
       "</style>\n",
       "<table border=\"1\" class=\"dataframe\">\n",
       "  <thead>\n",
       "    <tr style=\"text-align: right;\">\n",
       "      <th></th>\n",
       "      <th>odometer</th>\n",
       "      <th>cylinders</th>\n",
       "      <th>year</th>\n",
       "    </tr>\n",
       "  </thead>\n",
       "  <tbody>\n",
       "    <tr>\n",
       "      <th>0</th>\n",
       "      <td>57923.0</td>\n",
       "      <td>8</td>\n",
       "      <td>2014.0</td>\n",
       "    </tr>\n",
       "    <tr>\n",
       "      <th>1</th>\n",
       "      <td>71229.0</td>\n",
       "      <td>8</td>\n",
       "      <td>2010.0</td>\n",
       "    </tr>\n",
       "    <tr>\n",
       "      <th>2</th>\n",
       "      <td>19160.0</td>\n",
       "      <td>8</td>\n",
       "      <td>2020.0</td>\n",
       "    </tr>\n",
       "    <tr>\n",
       "      <th>3</th>\n",
       "      <td>41124.0</td>\n",
       "      <td>8</td>\n",
       "      <td>2017.0</td>\n",
       "    </tr>\n",
       "    <tr>\n",
       "      <th>4</th>\n",
       "      <td>128000.0</td>\n",
       "      <td>6</td>\n",
       "      <td>2013.0</td>\n",
       "    </tr>\n",
       "    <tr>\n",
       "      <th>...</th>\n",
       "      <td>...</td>\n",
       "      <td>...</td>\n",
       "      <td>...</td>\n",
       "    </tr>\n",
       "    <tr>\n",
       "      <th>225654</th>\n",
       "      <td>53475.0</td>\n",
       "      <td>6</td>\n",
       "      <td>2016.0</td>\n",
       "    </tr>\n",
       "    <tr>\n",
       "      <th>225655</th>\n",
       "      <td>55612.0</td>\n",
       "      <td>8</td>\n",
       "      <td>2016.0</td>\n",
       "    </tr>\n",
       "    <tr>\n",
       "      <th>225656</th>\n",
       "      <td>30814.0</td>\n",
       "      <td>6</td>\n",
       "      <td>2018.0</td>\n",
       "    </tr>\n",
       "    <tr>\n",
       "      <th>225657</th>\n",
       "      <td>32226.0</td>\n",
       "      <td>6</td>\n",
       "      <td>2019.0</td>\n",
       "    </tr>\n",
       "    <tr>\n",
       "      <th>225658</th>\n",
       "      <td>30112.0</td>\n",
       "      <td>6</td>\n",
       "      <td>2018.0</td>\n",
       "    </tr>\n",
       "  </tbody>\n",
       "</table>\n",
       "<p>225659 rows × 3 columns</p>\n",
       "</div>"
      ],
      "text/plain": [
       "        odometer  cylinders    year\n",
       "0        57923.0          8  2014.0\n",
       "1        71229.0          8  2010.0\n",
       "2        19160.0          8  2020.0\n",
       "3        41124.0          8  2017.0\n",
       "4       128000.0          6  2013.0\n",
       "...          ...        ...     ...\n",
       "225654   53475.0          6  2016.0\n",
       "225655   55612.0          8  2016.0\n",
       "225656   30814.0          6  2018.0\n",
       "225657   32226.0          6  2019.0\n",
       "225658   30112.0          6  2018.0\n",
       "\n",
       "[225659 rows x 3 columns]"
      ]
     },
     "execution_count": 236,
     "metadata": {},
     "output_type": "execute_result"
    }
   ],
   "source": [
    "X = maindf[['odometer', 'cylinders', 'year']].copy()\n",
    "X"
   ]
  },
  {
   "cell_type": "code",
   "execution_count": 238,
   "metadata": {},
   "outputs": [
    {
     "data": {
      "text/plain": [
       "0         33590\n",
       "1         22590\n",
       "2         39590\n",
       "3         30990\n",
       "4         15000\n",
       "          ...  \n",
       "225654    29590\n",
       "225655    32990\n",
       "225656    33590\n",
       "225657    23590\n",
       "225658    28990\n",
       "Name: price, Length: 225659, dtype: int64"
      ]
     },
     "execution_count": 238,
     "metadata": {},
     "output_type": "execute_result"
    }
   ],
   "source": [
    "y = maindf['price']\n",
    "y"
   ]
  },
  {
   "cell_type": "markdown",
   "metadata": {},
   "source": [
    "Escalemos nuestras características en el mismo rango para que podamos comparar fácilmente los coeficientes con los que terminamos.\n",
    "\n",
    "- Usamos el objeto StandardScaler del paquete sklearn.preprocessing para escalar mis datos y hacerlos comparables. \n",
    "\n",
    "- El objeto StandardScaler ofrece el metodo fit_transform(...) que nos ayuda con esto.\n",
    "\n",
    "Recuerda que el orden de las caracteristicas es importante durante el entrenamiento, ya que durante la inferencia debemos pasarlas en el mismo orden!"
   ]
  },
  {
   "cell_type": "code",
   "execution_count": 239,
   "metadata": {},
   "outputs": [
    {
     "data": {
      "text/html": [
       "<div>\n",
       "<style scoped>\n",
       "    .dataframe tbody tr th:only-of-type {\n",
       "        vertical-align: middle;\n",
       "    }\n",
       "\n",
       "    .dataframe tbody tr th {\n",
       "        vertical-align: top;\n",
       "    }\n",
       "\n",
       "    .dataframe thead th {\n",
       "        text-align: right;\n",
       "    }\n",
       "</style>\n",
       "<table border=\"1\" class=\"dataframe\">\n",
       "  <thead>\n",
       "    <tr style=\"text-align: right;\">\n",
       "      <th></th>\n",
       "      <th>odometer</th>\n",
       "      <th>cylinders</th>\n",
       "      <th>year</th>\n",
       "    </tr>\n",
       "  </thead>\n",
       "  <tbody>\n",
       "    <tr>\n",
       "      <th>0</th>\n",
       "      <td>-0.656294</td>\n",
       "      <td>1.287369</td>\n",
       "      <td>0.381170</td>\n",
       "    </tr>\n",
       "    <tr>\n",
       "      <th>1</th>\n",
       "      <td>-0.429595</td>\n",
       "      <td>1.287369</td>\n",
       "      <td>-0.025902</td>\n",
       "    </tr>\n",
       "    <tr>\n",
       "      <th>2</th>\n",
       "      <td>-1.316715</td>\n",
       "      <td>1.287369</td>\n",
       "      <td>0.991776</td>\n",
       "    </tr>\n",
       "    <tr>\n",
       "      <th>3</th>\n",
       "      <td>-0.942506</td>\n",
       "      <td>1.287369</td>\n",
       "      <td>0.686473</td>\n",
       "    </tr>\n",
       "    <tr>\n",
       "      <th>4</th>\n",
       "      <td>0.537635</td>\n",
       "      <td>0.034479</td>\n",
       "      <td>0.279402</td>\n",
       "    </tr>\n",
       "    <tr>\n",
       "      <th>...</th>\n",
       "      <td>...</td>\n",
       "      <td>...</td>\n",
       "      <td>...</td>\n",
       "    </tr>\n",
       "    <tr>\n",
       "      <th>225654</th>\n",
       "      <td>-0.732077</td>\n",
       "      <td>0.034479</td>\n",
       "      <td>0.584705</td>\n",
       "    </tr>\n",
       "    <tr>\n",
       "      <th>225655</th>\n",
       "      <td>-0.695668</td>\n",
       "      <td>1.287369</td>\n",
       "      <td>0.584705</td>\n",
       "    </tr>\n",
       "    <tr>\n",
       "      <th>225656</th>\n",
       "      <td>-1.118161</td>\n",
       "      <td>0.034479</td>\n",
       "      <td>0.788241</td>\n",
       "    </tr>\n",
       "    <tr>\n",
       "      <th>225657</th>\n",
       "      <td>-1.094104</td>\n",
       "      <td>0.034479</td>\n",
       "      <td>0.890009</td>\n",
       "    </tr>\n",
       "    <tr>\n",
       "      <th>225658</th>\n",
       "      <td>-1.130121</td>\n",
       "      <td>0.034479</td>\n",
       "      <td>0.788241</td>\n",
       "    </tr>\n",
       "  </tbody>\n",
       "</table>\n",
       "<p>225659 rows × 3 columns</p>\n",
       "</div>"
      ],
      "text/plain": [
       "        odometer  cylinders      year\n",
       "0      -0.656294   1.287369  0.381170\n",
       "1      -0.429595   1.287369 -0.025902\n",
       "2      -1.316715   1.287369  0.991776\n",
       "3      -0.942506   1.287369  0.686473\n",
       "4       0.537635   0.034479  0.279402\n",
       "...          ...        ...       ...\n",
       "225654 -0.732077   0.034479  0.584705\n",
       "225655 -0.695668   1.287369  0.584705\n",
       "225656 -1.118161   0.034479  0.788241\n",
       "225657 -1.094104   0.034479  0.890009\n",
       "225658 -1.130121   0.034479  0.788241\n",
       "\n",
       "[225659 rows x 3 columns]"
      ]
     },
     "execution_count": 239,
     "metadata": {},
     "output_type": "execute_result"
    }
   ],
   "source": [
    "from sklearn.preprocessing import StandardScaler\n",
    "scaler = StandardScaler()\n",
    "X[['odometer', 'cylinders', 'year']] = scaler.fit_transform(X[['odometer', 'cylinders', 'year']].values)\n",
    "X"
   ]
  },
  {
   "cell_type": "markdown",
   "metadata": {},
   "source": [
    "Agregamos una columna constante a nuestro modelo de tal manera que podamos tener una intercepción.\n",
    "\n",
    "Para realizar esto usamos el método add_constant(...) del paquete statsmodels.api"
   ]
  },
  {
   "cell_type": "code",
   "execution_count": 240,
   "metadata": {},
   "outputs": [
    {
     "data": {
      "text/html": [
       "<div>\n",
       "<style scoped>\n",
       "    .dataframe tbody tr th:only-of-type {\n",
       "        vertical-align: middle;\n",
       "    }\n",
       "\n",
       "    .dataframe tbody tr th {\n",
       "        vertical-align: top;\n",
       "    }\n",
       "\n",
       "    .dataframe thead th {\n",
       "        text-align: right;\n",
       "    }\n",
       "</style>\n",
       "<table border=\"1\" class=\"dataframe\">\n",
       "  <thead>\n",
       "    <tr style=\"text-align: right;\">\n",
       "      <th></th>\n",
       "      <th>const</th>\n",
       "      <th>odometer</th>\n",
       "      <th>cylinders</th>\n",
       "      <th>year</th>\n",
       "    </tr>\n",
       "  </thead>\n",
       "  <tbody>\n",
       "    <tr>\n",
       "      <th>0</th>\n",
       "      <td>1.0</td>\n",
       "      <td>-0.656294</td>\n",
       "      <td>1.287369</td>\n",
       "      <td>0.381170</td>\n",
       "    </tr>\n",
       "    <tr>\n",
       "      <th>1</th>\n",
       "      <td>1.0</td>\n",
       "      <td>-0.429595</td>\n",
       "      <td>1.287369</td>\n",
       "      <td>-0.025902</td>\n",
       "    </tr>\n",
       "    <tr>\n",
       "      <th>2</th>\n",
       "      <td>1.0</td>\n",
       "      <td>-1.316715</td>\n",
       "      <td>1.287369</td>\n",
       "      <td>0.991776</td>\n",
       "    </tr>\n",
       "    <tr>\n",
       "      <th>3</th>\n",
       "      <td>1.0</td>\n",
       "      <td>-0.942506</td>\n",
       "      <td>1.287369</td>\n",
       "      <td>0.686473</td>\n",
       "    </tr>\n",
       "    <tr>\n",
       "      <th>4</th>\n",
       "      <td>1.0</td>\n",
       "      <td>0.537635</td>\n",
       "      <td>0.034479</td>\n",
       "      <td>0.279402</td>\n",
       "    </tr>\n",
       "    <tr>\n",
       "      <th>...</th>\n",
       "      <td>...</td>\n",
       "      <td>...</td>\n",
       "      <td>...</td>\n",
       "      <td>...</td>\n",
       "    </tr>\n",
       "    <tr>\n",
       "      <th>225654</th>\n",
       "      <td>1.0</td>\n",
       "      <td>-0.732077</td>\n",
       "      <td>0.034479</td>\n",
       "      <td>0.584705</td>\n",
       "    </tr>\n",
       "    <tr>\n",
       "      <th>225655</th>\n",
       "      <td>1.0</td>\n",
       "      <td>-0.695668</td>\n",
       "      <td>1.287369</td>\n",
       "      <td>0.584705</td>\n",
       "    </tr>\n",
       "    <tr>\n",
       "      <th>225656</th>\n",
       "      <td>1.0</td>\n",
       "      <td>-1.118161</td>\n",
       "      <td>0.034479</td>\n",
       "      <td>0.788241</td>\n",
       "    </tr>\n",
       "    <tr>\n",
       "      <th>225657</th>\n",
       "      <td>1.0</td>\n",
       "      <td>-1.094104</td>\n",
       "      <td>0.034479</td>\n",
       "      <td>0.890009</td>\n",
       "    </tr>\n",
       "    <tr>\n",
       "      <th>225658</th>\n",
       "      <td>1.0</td>\n",
       "      <td>-1.130121</td>\n",
       "      <td>0.034479</td>\n",
       "      <td>0.788241</td>\n",
       "    </tr>\n",
       "  </tbody>\n",
       "</table>\n",
       "<p>225659 rows × 4 columns</p>\n",
       "</div>"
      ],
      "text/plain": [
       "        const  odometer  cylinders      year\n",
       "0         1.0 -0.656294   1.287369  0.381170\n",
       "1         1.0 -0.429595   1.287369 -0.025902\n",
       "2         1.0 -1.316715   1.287369  0.991776\n",
       "3         1.0 -0.942506   1.287369  0.686473\n",
       "4         1.0  0.537635   0.034479  0.279402\n",
       "...       ...       ...        ...       ...\n",
       "225654    1.0 -0.732077   0.034479  0.584705\n",
       "225655    1.0 -0.695668   1.287369  0.584705\n",
       "225656    1.0 -1.118161   0.034479  0.788241\n",
       "225657    1.0 -1.094104   0.034479  0.890009\n",
       "225658    1.0 -1.130121   0.034479  0.788241\n",
       "\n",
       "[225659 rows x 4 columns]"
      ]
     },
     "execution_count": 240,
     "metadata": {},
     "output_type": "execute_result"
    }
   ],
   "source": [
    "import statsmodels.api as sm\n",
    "X = sm.add_constant(X)\n",
    "X"
   ]
  },
  {
   "cell_type": "markdown",
   "metadata": {},
   "source": [
    "Entrenamos nuestro modelo de regresión OLS (ordinary least squares).\n",
    "\n",
    "Para esto usaremos:\n",
    "- el metodo OLS(y, X).fit() del paquete statsmodels.api para entrenar el modelo\n",
    "- el metodo .summary() para ver el resumen de mi entrenamiento"
   ]
  },
  {
   "cell_type": "code",
   "execution_count": 244,
   "metadata": {},
   "outputs": [
    {
     "data": {
      "text/plain": [
       "225659"
      ]
     },
     "execution_count": 244,
     "metadata": {},
     "output_type": "execute_result"
    }
   ],
   "source": [
    "len(X)"
   ]
  },
  {
   "cell_type": "code",
   "execution_count": 243,
   "metadata": {},
   "outputs": [
    {
     "name": "stdout",
     "output_type": "stream",
     "text": [
      "                            OLS Regression Results                            \n",
      "==============================================================================\n",
      "Dep. Variable:                  price   R-squared:                       0.470\n",
      "Model:                            OLS   Adj. R-squared:                  0.470\n",
      "Method:                 Least Squares   F-statistic:                 6.672e+04\n",
      "Date:                Fri, 08 Oct 2021   Prob (F-statistic):               0.00\n",
      "Time:                        19:52:14   Log-Likelihood:            -2.4042e+06\n",
      "No. Observations:              225659   AIC:                         4.808e+06\n",
      "Df Residuals:                  225655   BIC:                         4.808e+06\n",
      "Df Model:                           3                                         \n",
      "Covariance Type:            nonrobust                                         \n",
      "==============================================================================\n",
      "                 coef    std err          t      P>|t|      [0.025      0.975]\n",
      "------------------------------------------------------------------------------\n",
      "const       1.753e+04     21.576    812.622      0.000    1.75e+04    1.76e+04\n",
      "odometer   -6522.7934     22.351   -291.834      0.000   -6566.601   -6478.986\n",
      "cylinders   5626.9003     21.868    257.317      0.000    5584.040    5669.760\n",
      "year        3792.3640     22.642    167.492      0.000    3747.986    3836.742\n",
      "==============================================================================\n",
      "Omnibus:                    51805.735   Durbin-Watson:                   1.580\n",
      "Prob(Omnibus):                  0.000   Jarque-Bera (JB):           287021.508\n",
      "Skew:                           0.996   Prob(JB):                         0.00\n",
      "Kurtosis:                       8.154   Cond. No.                         1.37\n",
      "==============================================================================\n",
      "\n",
      "Notes:\n",
      "[1] Standard Errors assume that the covariance matrix of the errors is correctly specified.\n"
     ]
    }
   ],
   "source": [
    "model = sm.OLS(y, X).fit()\n",
    "print(model.summary())"
   ]
  },
  {
   "cell_type": "markdown",
   "metadata": {},
   "source": [
    "La tabla de coeficientes anterior nos da los valores para insertar en una ecuación de forma:\n",
    "- B0 + B1 * odometer + B2 * cylinders + B3 * year"
   ]
  },
  {
   "cell_type": "markdown",
   "metadata": {},
   "source": [
    "## Usando mi modelo para realizar predicciones"
   ]
  },
  {
   "cell_type": "markdown",
   "metadata": {},
   "source": [
    "Comencemos escalando nuestras características en la misma escala que usamos para entrenar el modelo.\n",
    "\n",
    "Usamos StandardScaler.transform([[...]]) para escalar mis datos"
   ]
  },
  {
   "cell_type": "code",
   "execution_count": 245,
   "metadata": {},
   "outputs": [
    {
     "data": {
      "text/plain": [
       "array([[-0.87646857,  0.0344788 ,  0.78824087]])"
      ]
     },
     "execution_count": 245,
     "metadata": {},
     "output_type": "execute_result"
    }
   ],
   "source": [
    "value = [45000, 6, 2018]\n",
    "scaled = scaler.transform([value])\n",
    "scaled"
   ]
  },
  {
   "cell_type": "markdown",
   "metadata": {},
   "source": [
    "Agregamos nuevamente la columna constante (intersección) nuevamente.\n",
    "\n",
    "Para realizar esto utilizamos numpy.insert(...)"
   ]
  },
  {
   "cell_type": "code",
   "execution_count": 246,
   "metadata": {},
   "outputs": [
    {
     "data": {
      "text/plain": [
       "array([ 1.        , -0.87646857,  0.0344788 ,  0.78824087])"
      ]
     },
     "execution_count": 246,
     "metadata": {},
     "output_type": "execute_result"
    }
   ],
   "source": [
    "scaled = np.insert(scaled, 0, 1)\n",
    "scaled"
   ]
  },
  {
   "cell_type": "markdown",
   "metadata": {},
   "source": [
    "Llame la función est.predict(...) pasando las características escaladas"
   ]
  },
  {
   "cell_type": "code",
   "execution_count": 247,
   "metadata": {},
   "outputs": [
    {
     "data": {
      "text/plain": [
       "array([26433.83820502])"
      ]
     },
     "execution_count": 247,
     "metadata": {},
     "output_type": "execute_result"
    }
   ],
   "source": [
    "predicted = model.predict(scaled)\n",
    "predicted"
   ]
  }
 ],
 "metadata": {
  "kernelspec": {
   "display_name": "Python 3 (ipykernel)",
   "language": "python",
   "name": "python3"
  },
  "language_info": {
   "codemirror_mode": {
    "name": "ipython",
    "version": 3
   },
   "file_extension": ".py",
   "mimetype": "text/x-python",
   "name": "python",
   "nbconvert_exporter": "python",
   "pygments_lexer": "ipython3",
   "version": "3.8.12"
  }
 },
 "nbformat": 4,
 "nbformat_minor": 1
}
